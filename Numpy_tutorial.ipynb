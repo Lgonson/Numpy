{
 "cells": [
  {
   "cell_type": "code",
   "execution_count": 215,
   "id": "cb04960e-f91a-4273-b85b-7719939a0092",
   "metadata": {},
   "outputs": [],
   "source": [
    "#based on the video tutorial: https://www.youtube.com/watch?v=QUT1VHiLmmI&t=24s&ab_channel=freeCodeCamp.org"
   ]
  },
  {
   "cell_type": "code",
   "execution_count": 214,
   "id": "f72e83f1-17a5-4c6a-91db-4436e3e1575c",
   "metadata": {},
   "outputs": [],
   "source": [
    "import numpy as np"
   ]
  },
  {
   "cell_type": "markdown",
   "id": "02786805-7824-4a45-a641-6905520ff9e4",
   "metadata": {},
   "source": [
    "# The basics"
   ]
  },
  {
   "cell_type": "code",
   "execution_count": 16,
   "id": "8129e14f-e741-4559-8a3c-b961bcf251bb",
   "metadata": {},
   "outputs": [],
   "source": [
    "a = np.array([1,2,3])"
   ]
  },
  {
   "cell_type": "code",
   "execution_count": 18,
   "id": "b97045da-31b2-42a0-bc6e-2f14f9f97088",
   "metadata": {},
   "outputs": [],
   "source": [
    "b = np.array([3,1,2])"
   ]
  },
  {
   "cell_type": "code",
   "execution_count": 19,
   "id": "f7b7ccde-b534-4590-8cba-9bab89fc2ba3",
   "metadata": {},
   "outputs": [
    {
     "data": {
      "text/plain": [
       "array([3, 2, 6])"
      ]
     },
     "execution_count": 19,
     "metadata": {},
     "output_type": "execute_result"
    }
   ],
   "source": [
    "a*b"
   ]
  },
  {
   "cell_type": "code",
   "execution_count": 21,
   "id": "1105b90f-9e75-4d34-90ee-0da4abbf52e9",
   "metadata": {},
   "outputs": [
    {
     "data": {
      "text/plain": [
       "array([123])"
      ]
     },
     "execution_count": 21,
     "metadata": {},
     "output_type": "execute_result"
    }
   ],
   "source": [
    "a = np.array([123])\n",
    "a"
   ]
  },
  {
   "cell_type": "code",
   "execution_count": 31,
   "id": "8903c77f-c8b1-42c5-94f2-d3018dc5be49",
   "metadata": {},
   "outputs": [
    {
     "data": {
      "text/plain": [
       "array([[1, 2, 3],\n",
       "       [2, 3, 4],\n",
       "       [5, 6, 7]])"
      ]
     },
     "execution_count": 31,
     "metadata": {},
     "output_type": "execute_result"
    }
   ],
   "source": [
    "b = np.array([[1,2,3],[2,3,4],[5,6,7]])\n",
    "b"
   ]
  },
  {
   "cell_type": "code",
   "execution_count": 32,
   "id": "805224dd-a328-42c4-a5f4-9f168f056a7a",
   "metadata": {},
   "outputs": [
    {
     "data": {
      "text/plain": [
       "2"
      ]
     },
     "execution_count": 32,
     "metadata": {},
     "output_type": "execute_result"
    }
   ],
   "source": [
    "# Get the dimension of a ndarray\n",
    "b.ndim"
   ]
  },
  {
   "cell_type": "code",
   "execution_count": 33,
   "id": "99008982-e1c7-4591-9462-9da230ee09ab",
   "metadata": {},
   "outputs": [
    {
     "name": "stdout",
     "output_type": "stream",
     "text": [
      "[[[ 1  2  3]\n",
      "  [ 4  5  6]\n",
      "  [ 7  8  9]]\n",
      "\n",
      " [[10 11 12]\n",
      "  [13 14 15]\n",
      "  [16 17 18]]\n",
      "\n",
      " [[19 20 21]\n",
      "  [22 23 24]\n",
      "  [25 26 27]]]\n",
      "Number of dimensions: 3\n"
     ]
    }
   ],
   "source": [
    "c = np.array([\n",
    "    [[1, 2, 3], [4, 5, 6], [7, 8, 9]],  # First 2D slice\n",
    "    [[10, 11, 12], [13, 14, 15], [16, 17, 18]],  # Second 2D slice\n",
    "    [[19, 20, 21], [22, 23, 24], [25, 26, 27]]   # Third 2D slice\n",
    "])\n",
    "\n",
    "print(c)\n",
    "print(\"Number of dimensions:\", c.ndim)"
   ]
  },
  {
   "cell_type": "code",
   "execution_count": 79,
   "id": "b6861f6d-7c0d-4731-925d-5c8a2a4f357b",
   "metadata": {},
   "outputs": [
    {
     "data": {
      "text/plain": [
       "3"
      ]
     },
     "execution_count": 79,
     "metadata": {},
     "output_type": "execute_result"
    }
   ],
   "source": [
    "d = np.array([\n",
    "\n",
    "    [[1,2,3],\n",
    "    [4,5,6]],\n",
    "\n",
    "    [[1,2,3],\n",
    "    [4,5,6]],\n",
    "\n",
    "    [[1,2,3],\n",
    "    [4,5,6]]\n",
    "\n",
    "\n",
    "             ], dtype='int8')\n",
    "\n",
    "d.ndim"
   ]
  },
  {
   "cell_type": "code",
   "execution_count": 80,
   "id": "b833f58b-2089-44ab-aeed-7881dc823162",
   "metadata": {},
   "outputs": [
    {
     "data": {
      "text/plain": [
       "(3, 3)"
      ]
     },
     "execution_count": 80,
     "metadata": {},
     "output_type": "execute_result"
    }
   ],
   "source": [
    "#Get the shape of a ndarray\n",
    "b.shape"
   ]
  },
  {
   "cell_type": "code",
   "execution_count": 81,
   "id": "1004e6fb-682f-4e20-bb81-a67f515fd0f6",
   "metadata": {},
   "outputs": [
    {
     "data": {
      "text/plain": [
       "dtype('int8')"
      ]
     },
     "execution_count": 81,
     "metadata": {},
     "output_type": "execute_result"
    }
   ],
   "source": [
    "#Get the type\n",
    "d.dtype"
   ]
  },
  {
   "cell_type": "code",
   "execution_count": 82,
   "id": "1720d10f-4661-4c10-813d-a611a880da85",
   "metadata": {},
   "outputs": [
    {
     "data": {
      "text/plain": [
       "1"
      ]
     },
     "execution_count": 82,
     "metadata": {},
     "output_type": "execute_result"
    }
   ],
   "source": [
    "d.itemsize"
   ]
  },
  {
   "cell_type": "code",
   "execution_count": 83,
   "id": "7700f1f9-b7c4-4ef9-b25b-b1c46c500ba9",
   "metadata": {},
   "outputs": [
    {
     "data": {
      "text/plain": [
       "18"
      ]
     },
     "execution_count": 83,
     "metadata": {},
     "output_type": "execute_result"
    }
   ],
   "source": [
    "#Get total size\n",
    "d.size * d.itemsize"
   ]
  },
  {
   "cell_type": "code",
   "execution_count": 84,
   "id": "60ba7007-8e3e-4005-a7b7-3dc4e7d8a9e9",
   "metadata": {},
   "outputs": [
    {
     "data": {
      "text/plain": [
       "18"
      ]
     },
     "execution_count": 84,
     "metadata": {},
     "output_type": "execute_result"
    }
   ],
   "source": [
    "#Get total size\n",
    "d.nbytes"
   ]
  },
  {
   "cell_type": "markdown",
   "id": "8d3b2b0c-f3c7-403e-ba9a-e2802c8a5343",
   "metadata": {},
   "source": [
    "# Accesing / Changing specific elements, rows, columns, etc"
   ]
  },
  {
   "cell_type": "code",
   "execution_count": 88,
   "id": "3caaf327-46d7-4ec8-b981-583223664366",
   "metadata": {},
   "outputs": [
    {
     "data": {
      "text/plain": [
       "array([[ 1,  2,  3,  4,  5,  6,  7],\n",
       "       [ 8,  9, 10, 11, 12, 13, 14]], dtype=int8)"
      ]
     },
     "execution_count": 88,
     "metadata": {},
     "output_type": "execute_result"
    }
   ],
   "source": [
    "a = np.array([[1,2,3,4,5,6,7],[8,9,10,11,12,13,14]], dtype='int8')\n",
    "a"
   ]
  },
  {
   "cell_type": "code",
   "execution_count": 89,
   "id": "36639f9d-55af-4ce5-86f2-e8cfe3d4d115",
   "metadata": {},
   "outputs": [
    {
     "data": {
      "text/plain": [
       "np.int8(13)"
      ]
     },
     "execution_count": 89,
     "metadata": {},
     "output_type": "execute_result"
    }
   ],
   "source": [
    "#Get a specific element [row, column]\n",
    "a[1,5]"
   ]
  },
  {
   "cell_type": "code",
   "execution_count": 91,
   "id": "f1dab0a6-48a0-437b-ad1f-8ae01650f387",
   "metadata": {},
   "outputs": [
    {
     "data": {
      "text/plain": [
       "array([1, 2, 3, 4, 5, 6, 7], dtype=int8)"
      ]
     },
     "execution_count": 91,
     "metadata": {},
     "output_type": "execute_result"
    }
   ],
   "source": [
    "#get a specific row\n",
    "a[0,:]"
   ]
  },
  {
   "cell_type": "code",
   "execution_count": 92,
   "id": "13ea5778-1ff9-4353-b072-00916530f275",
   "metadata": {},
   "outputs": [
    {
     "data": {
      "text/plain": [
       "array([ 3, 10], dtype=int8)"
      ]
     },
     "execution_count": 92,
     "metadata": {},
     "output_type": "execute_result"
    }
   ],
   "source": [
    "#get a specific column\n",
    "a[:,2]"
   ]
  },
  {
   "cell_type": "code",
   "execution_count": 94,
   "id": "03bb54dc-2e09-467a-8b7f-3957fd197849",
   "metadata": {},
   "outputs": [
    {
     "data": {
      "text/plain": [
       "array([2, 4, 6], dtype=int8)"
      ]
     },
     "execution_count": 94,
     "metadata": {},
     "output_type": "execute_result"
    }
   ],
   "source": [
    "#getting elements (fancy mode) [row,startindex:endindex:stepsize]\n",
    "a[0,1:6:2]"
   ]
  },
  {
   "cell_type": "code",
   "execution_count": 99,
   "id": "c82a00ef-ed98-4276-a29a-f2ea305de747",
   "metadata": {},
   "outputs": [
    {
     "data": {
      "text/plain": [
       "array([ 9, 10, 11, 12, 13, 14], dtype=int8)"
      ]
     },
     "execution_count": 99,
     "metadata": {},
     "output_type": "execute_result"
    }
   ],
   "source": [
    "#getting elements (fancy mode) [row,startindex:endindex:stepsize]\n",
    "a[1,1:8:1]"
   ]
  },
  {
   "cell_type": "code",
   "execution_count": 102,
   "id": "e8683e2d-d883-40f5-bbf9-599d75a9b4e6",
   "metadata": {},
   "outputs": [],
   "source": [
    "#update individual values from a ndarray array_name[row,value_position]\n",
    "a[1,5] = 25"
   ]
  },
  {
   "cell_type": "code",
   "execution_count": 110,
   "id": "9f355508-d499-4033-897a-d6ea0e88d1b6",
   "metadata": {},
   "outputs": [],
   "source": [
    "#modify multiple numbers array_name[starting row, last row number] = value to insert\n",
    "a[:,1] = 25"
   ]
  },
  {
   "cell_type": "code",
   "execution_count": 111,
   "id": "428e4d3a-4763-4742-9710-9dcad3a6f2a1",
   "metadata": {},
   "outputs": [
    {
     "data": {
      "text/plain": [
       "array([[ 1, 25,  3,  4,  5,  6,  7],\n",
       "       [ 8, 25, 10, 11, 12, 25, 14]], dtype=int8)"
      ]
     },
     "execution_count": 111,
     "metadata": {},
     "output_type": "execute_result"
    }
   ],
   "source": [
    "a"
   ]
  },
  {
   "cell_type": "code",
   "execution_count": 123,
   "id": "6a249b14-1917-4eaa-9a65-085ef9c55c43",
   "metadata": {},
   "outputs": [],
   "source": [
    "b = np.array([[[1,2],[3,4]],[[5,6],[7,8]]], dtype='int8')"
   ]
  },
  {
   "cell_type": "code",
   "execution_count": 124,
   "id": "4bf472a0-c251-40e3-85d8-24612f245f2a",
   "metadata": {},
   "outputs": [
    {
     "data": {
      "text/plain": [
       "array([[[1, 2],\n",
       "        [3, 4]],\n",
       "\n",
       "       [[5, 6],\n",
       "        [7, 8]]], dtype=int8)"
      ]
     },
     "execution_count": 124,
     "metadata": {},
     "output_type": "execute_result"
    }
   ],
   "source": [
    "b"
   ]
  },
  {
   "cell_type": "code",
   "execution_count": 125,
   "id": "bf0ec698-8ac1-4174-9269-fc0a6754d81d",
   "metadata": {},
   "outputs": [
    {
     "data": {
      "text/plain": [
       "np.int8(6)"
      ]
     },
     "execution_count": 125,
     "metadata": {},
     "output_type": "execute_result"
    }
   ],
   "source": [
    "#Get a specific element (work from outside to inside)\n",
    "b[1,0,1]"
   ]
  },
  {
   "cell_type": "code",
   "execution_count": 126,
   "id": "1de8f692-e294-418e-af9b-1ab7c680baf6",
   "metadata": {},
   "outputs": [
    {
     "data": {
      "text/plain": [
       "array([[1, 2],\n",
       "       [5, 6]], dtype=int8)"
      ]
     },
     "execution_count": 126,
     "metadata": {},
     "output_type": "execute_result"
    }
   ],
   "source": [
    "b[:,0,:]"
   ]
  },
  {
   "cell_type": "code",
   "execution_count": 127,
   "id": "a5669dfc-e34e-40fc-a53e-2fd3bbaf6c04",
   "metadata": {},
   "outputs": [],
   "source": [
    "#replace values\n",
    "b[:,0,:] = [[9,8],[7,6]]"
   ]
  },
  {
   "cell_type": "code",
   "execution_count": 128,
   "id": "04925b9f-9213-4e93-a90a-ddb271c03b02",
   "metadata": {},
   "outputs": [
    {
     "data": {
      "text/plain": [
       "array([[[9, 8],\n",
       "        [3, 4]],\n",
       "\n",
       "       [[7, 6],\n",
       "        [7, 8]]], dtype=int8)"
      ]
     },
     "execution_count": 128,
     "metadata": {},
     "output_type": "execute_result"
    }
   ],
   "source": [
    "b"
   ]
  },
  {
   "cell_type": "markdown",
   "id": "d5518d5a-084a-4c7f-9755-ba0fc3726eba",
   "metadata": {},
   "source": [
    "## Initializing different types of Arrays"
   ]
  },
  {
   "cell_type": "code",
   "execution_count": 144,
   "id": "4f701d7e-7792-498d-b061-c6b586e477be",
   "metadata": {},
   "outputs": [],
   "source": [
    "#zeros matrix\n",
    "a = np.zeros((2,2,4,2))"
   ]
  },
  {
   "cell_type": "code",
   "execution_count": 145,
   "id": "07b38803-5f6b-43c7-9c04-7dc0efcf0575",
   "metadata": {},
   "outputs": [
    {
     "data": {
      "text/plain": [
       "array([[[[0., 0.],\n",
       "         [0., 0.],\n",
       "         [0., 0.],\n",
       "         [0., 0.]],\n",
       "\n",
       "        [[0., 0.],\n",
       "         [0., 0.],\n",
       "         [0., 0.],\n",
       "         [0., 0.]]],\n",
       "\n",
       "\n",
       "       [[[0., 0.],\n",
       "         [0., 0.],\n",
       "         [0., 0.],\n",
       "         [0., 0.]],\n",
       "\n",
       "        [[0., 0.],\n",
       "         [0., 0.],\n",
       "         [0., 0.],\n",
       "         [0., 0.]]]])"
      ]
     },
     "execution_count": 145,
     "metadata": {},
     "output_type": "execute_result"
    }
   ],
   "source": [
    "a"
   ]
  },
  {
   "cell_type": "code",
   "execution_count": 156,
   "id": "8f734667-0bb8-4220-a115-12451300dc59",
   "metadata": {},
   "outputs": [],
   "source": [
    "#one's matrix\n",
    "b = np.ones((3,1,4))"
   ]
  },
  {
   "cell_type": "code",
   "execution_count": 157,
   "id": "ae1ef4a9-c7b2-46e8-8061-77e209c6d38f",
   "metadata": {},
   "outputs": [
    {
     "data": {
      "text/plain": [
       "array([[[1., 1., 1., 1.]],\n",
       "\n",
       "       [[1., 1., 1., 1.]],\n",
       "\n",
       "       [[1., 1., 1., 1.]]])"
      ]
     },
     "execution_count": 157,
     "metadata": {},
     "output_type": "execute_result"
    }
   ],
   "source": [
    "b"
   ]
  },
  {
   "cell_type": "code",
   "execution_count": 160,
   "id": "237646e1-d259-45a3-8cc6-63e54e458aa4",
   "metadata": {},
   "outputs": [],
   "source": [
    "#Any other number matrix\n",
    "c = np.full((2,2,2), 80)"
   ]
  },
  {
   "cell_type": "code",
   "execution_count": 161,
   "id": "c59b90ea-f8b2-42d2-91ec-878a05eb5298",
   "metadata": {},
   "outputs": [
    {
     "data": {
      "text/plain": [
       "array([[[80, 80],\n",
       "        [80, 80]],\n",
       "\n",
       "       [[80, 80],\n",
       "        [80, 80]]])"
      ]
     },
     "execution_count": 161,
     "metadata": {},
     "output_type": "execute_result"
    }
   ],
   "source": [
    "c"
   ]
  },
  {
   "cell_type": "code",
   "execution_count": 163,
   "id": "28800e6b-68b9-4277-b5a0-4f89852188d4",
   "metadata": {},
   "outputs": [
    {
     "data": {
      "text/plain": [
       "array([[[7, 7],\n",
       "        [7, 7]],\n",
       "\n",
       "       [[7, 7],\n",
       "        [7, 7]]])"
      ]
     },
     "execution_count": 163,
     "metadata": {},
     "output_type": "execute_result"
    }
   ],
   "source": [
    "#Any other number (full_like) -> utiliza la forma de otro array previamente generado y remplaza sus numeros\n",
    "np.full_like(c, 7)"
   ]
  },
  {
   "cell_type": "code",
   "execution_count": 165,
   "id": "ef11a485-9b1a-4e74-a5fb-cb772ae7c97d",
   "metadata": {},
   "outputs": [
    {
     "data": {
      "text/plain": [
       "array([[[0.9748362 , 0.72245276, 0.33413354],\n",
       "        [0.95517478, 0.82729006, 0.76715701]],\n",
       "\n",
       "       [[0.17941688, 0.24632288, 0.84109947],\n",
       "        [0.48182998, 0.08948257, 0.14285714]],\n",
       "\n",
       "       [[0.54960704, 0.60336384, 0.46852885],\n",
       "        [0.02868619, 0.65969856, 0.27993762]],\n",
       "\n",
       "       [[0.14844717, 0.12745971, 0.27796581],\n",
       "        [0.54003757, 0.27951791, 0.56913553]]])"
      ]
     },
     "execution_count": 165,
     "metadata": {},
     "output_type": "execute_result"
    }
   ],
   "source": [
    "#Random decimal numbers\n",
    "np.random.rand(4,2,3)"
   ]
  },
  {
   "cell_type": "code",
   "execution_count": 178,
   "id": "1723fe81-8120-4db5-ad4f-e083a3b3ab19",
   "metadata": {},
   "outputs": [
    {
     "data": {
      "text/plain": [
       "array([[10,  8,  7,  7],\n",
       "       [ 2,  0,  6,  3],\n",
       "       [ 7,  1,  6,  0]], dtype=int32)"
      ]
     },
     "execution_count": 178,
     "metadata": {},
     "output_type": "execute_result"
    }
   ],
   "source": [
    "#Random integer values (maximal random number, size(shape))\n",
    "np.random.randint(11, size=(3,4))"
   ]
  },
  {
   "cell_type": "code",
   "execution_count": 181,
   "id": "c4f925ce-9fe4-479e-9d57-2e84dc374cf5",
   "metadata": {},
   "outputs": [
    {
     "data": {
      "text/plain": [
       "array([[10, 10, 10, 10],\n",
       "       [10, 10, 10, 10],\n",
       "       [ 9, 10,  9,  9]], dtype=int32)"
      ]
     },
     "execution_count": 181,
     "metadata": {},
     "output_type": "execute_result"
    }
   ],
   "source": [
    "#Random integer values (minimum possible random value, maximal random number, size(shape))\n",
    "np.random.randint(9,11, size=(3,4))"
   ]
  },
  {
   "cell_type": "code",
   "execution_count": 184,
   "id": "e1cb46e8-ade2-4b63-8a15-6e30f466cdf5",
   "metadata": {},
   "outputs": [
    {
     "data": {
      "text/plain": [
       "array([[1., 0., 0., 0., 0.],\n",
       "       [0., 1., 0., 0., 0.],\n",
       "       [0., 0., 1., 0., 0.],\n",
       "       [0., 0., 0., 1., 0.],\n",
       "       [0., 0., 0., 0., 1.]])"
      ]
     },
     "execution_count": 184,
     "metadata": {},
     "output_type": "execute_result"
    }
   ],
   "source": [
    "#The identity matrix\n",
    "np.identity(5)"
   ]
  },
  {
   "cell_type": "code",
   "execution_count": 190,
   "id": "5626512d-d7fb-4c24-8991-33257c3e05ef",
   "metadata": {},
   "outputs": [],
   "source": [
    "#Repeat an array\n",
    "arr = np.array([[1,2,3]])\n",
    "r1 = np.repeat(arr, 5, axis=0)\n"
   ]
  },
  {
   "cell_type": "code",
   "execution_count": 191,
   "id": "c8ef0328-dbf4-4ad6-8c70-bd00c8330995",
   "metadata": {},
   "outputs": [
    {
     "data": {
      "text/plain": [
       "array([[1, 2, 3],\n",
       "       [1, 2, 3],\n",
       "       [1, 2, 3],\n",
       "       [1, 2, 3],\n",
       "       [1, 2, 3]])"
      ]
     },
     "execution_count": 191,
     "metadata": {},
     "output_type": "execute_result"
    }
   ],
   "source": [
    "r1"
   ]
  },
  {
   "cell_type": "code",
   "execution_count": 192,
   "id": "091c3ce3-0f81-40e2-8395-bcac5866e76c",
   "metadata": {},
   "outputs": [],
   "source": [
    "#excercise how to create a specific array\n",
    "output = np.ones([5,5])"
   ]
  },
  {
   "cell_type": "code",
   "execution_count": 193,
   "id": "93e0a0a0-edd3-411a-b7fe-dd6ec3ff0df7",
   "metadata": {},
   "outputs": [
    {
     "data": {
      "text/plain": [
       "array([[1., 1., 1., 1., 1.],\n",
       "       [1., 1., 1., 1., 1.],\n",
       "       [1., 1., 1., 1., 1.],\n",
       "       [1., 1., 1., 1., 1.],\n",
       "       [1., 1., 1., 1., 1.]])"
      ]
     },
     "execution_count": 193,
     "metadata": {},
     "output_type": "execute_result"
    }
   ],
   "source": [
    "output"
   ]
  },
  {
   "cell_type": "code",
   "execution_count": 207,
   "id": "2cc44882-5276-400c-947a-f62b5e3a76b4",
   "metadata": {},
   "outputs": [],
   "source": [
    "zeros = np.zeros([3,3])"
   ]
  },
  {
   "cell_type": "code",
   "execution_count": 208,
   "id": "21a7735a-3c34-4633-b25d-6fc7565801fc",
   "metadata": {},
   "outputs": [
    {
     "data": {
      "text/plain": [
       "array([[0., 0., 0.],\n",
       "       [0., 0., 0.],\n",
       "       [0., 0., 0.]])"
      ]
     },
     "execution_count": 208,
     "metadata": {},
     "output_type": "execute_result"
    }
   ],
   "source": [
    "zeros"
   ]
  },
  {
   "cell_type": "code",
   "execution_count": 209,
   "id": "5e0eee3e-901e-4ca5-ae1c-674035a2e959",
   "metadata": {},
   "outputs": [],
   "source": [
    "zeros[1,1] = 9"
   ]
  },
  {
   "cell_type": "code",
   "execution_count": 210,
   "id": "b2416906-0a8c-4e76-8744-aacc164311d9",
   "metadata": {},
   "outputs": [
    {
     "data": {
      "text/plain": [
       "array([[0., 0., 0.],\n",
       "       [0., 9., 0.],\n",
       "       [0., 0., 0.]])"
      ]
     },
     "execution_count": 210,
     "metadata": {},
     "output_type": "execute_result"
    }
   ],
   "source": [
    "zeros"
   ]
  },
  {
   "cell_type": "code",
   "execution_count": 212,
   "id": "2e29e1d5-426a-42df-8d1a-93c972f96e62",
   "metadata": {},
   "outputs": [],
   "source": [
    "output[1:4,1:4] = zeros #it also works with output[1:-1,1:-1] = zeros"
   ]
  },
  {
   "cell_type": "code",
   "execution_count": 213,
   "id": "af11413a-08a9-43bc-9b87-4393b7fb5c22",
   "metadata": {},
   "outputs": [
    {
     "data": {
      "text/plain": [
       "array([[1., 1., 1., 1., 1.],\n",
       "       [1., 0., 0., 0., 1.],\n",
       "       [1., 0., 9., 0., 1.],\n",
       "       [1., 0., 0., 0., 1.],\n",
       "       [1., 1., 1., 1., 1.]])"
      ]
     },
     "execution_count": 213,
     "metadata": {},
     "output_type": "execute_result"
    }
   ],
   "source": [
    "output"
   ]
  },
  {
   "cell_type": "code",
   "execution_count": 220,
   "id": "5a256d71-ef21-4748-b96a-8fe9faf6aefe",
   "metadata": {},
   "outputs": [],
   "source": [
    "# Be carefully when copying arrays"
   ]
  },
  {
   "cell_type": "code",
   "execution_count": 221,
   "id": "68702d62-50bd-4d1a-994c-a27ef01e4b60",
   "metadata": {},
   "outputs": [
    {
     "name": "stdout",
     "output_type": "stream",
     "text": [
      "[100   2   3]\n"
     ]
    }
   ],
   "source": [
    "a = np.array([1,2,3])\n",
    "b = a\n",
    "b[0] = 100\n",
    "print(a)"
   ]
  },
  {
   "cell_type": "code",
   "execution_count": 222,
   "id": "557f6992-0b10-489a-b3f4-858e2b13f9f1",
   "metadata": {},
   "outputs": [],
   "source": [
    "# To prevent this I can use the copy function"
   ]
  },
  {
   "cell_type": "code",
   "execution_count": 238,
   "id": "1965550e-5784-4ca5-a26d-9cda944d5e78",
   "metadata": {},
   "outputs": [
    {
     "name": "stdout",
     "output_type": "stream",
     "text": [
      "[1 2 3]\n"
     ]
    }
   ],
   "source": [
    "a = np.array([1,2,3])\n",
    "b = a.copy()\n",
    "b[0] = 100\n",
    "print(a)"
   ]
  },
  {
   "cell_type": "markdown",
   "id": "908531e7-6dd0-4cde-87ea-09abaa4262f7",
   "metadata": {},
   "source": [
    "# Mathematics"
   ]
  },
  {
   "cell_type": "code",
   "execution_count": 231,
   "id": "c422f200-317f-4791-b98b-dc14fe459883",
   "metadata": {},
   "outputs": [],
   "source": [
    "a = np.array([1,2,3,4])"
   ]
  },
  {
   "cell_type": "code",
   "execution_count": 232,
   "id": "2c38d496-c3a5-4695-bdd1-3b644f613107",
   "metadata": {},
   "outputs": [
    {
     "data": {
      "text/plain": [
       "array([3, 4, 5, 6])"
      ]
     },
     "execution_count": 232,
     "metadata": {},
     "output_type": "execute_result"
    }
   ],
   "source": [
    "a + 2"
   ]
  },
  {
   "cell_type": "code",
   "execution_count": 233,
   "id": "98905752-d98e-4092-bb39-5330f99a4f58",
   "metadata": {},
   "outputs": [
    {
     "data": {
      "text/plain": [
       "array([-1,  0,  1,  2])"
      ]
     },
     "execution_count": 233,
     "metadata": {},
     "output_type": "execute_result"
    }
   ],
   "source": [
    "a - 2"
   ]
  },
  {
   "cell_type": "code",
   "execution_count": 234,
   "id": "b5ef43cc-28e0-427b-bf18-04069e912863",
   "metadata": {},
   "outputs": [
    {
     "data": {
      "text/plain": [
       "array([2, 4, 6, 8])"
      ]
     },
     "execution_count": 234,
     "metadata": {},
     "output_type": "execute_result"
    }
   ],
   "source": [
    "a * 2"
   ]
  },
  {
   "cell_type": "code",
   "execution_count": 235,
   "id": "4ebb6f6e-bf97-4308-b25f-e87fcd8f048f",
   "metadata": {},
   "outputs": [
    {
     "data": {
      "text/plain": [
       "array([0.5, 1. , 1.5, 2. ])"
      ]
     },
     "execution_count": 235,
     "metadata": {},
     "output_type": "execute_result"
    }
   ],
   "source": [
    "a / 2"
   ]
  },
  {
   "cell_type": "code",
   "execution_count": 236,
   "id": "fc3c0e08-b163-480a-b287-000e976e1aef",
   "metadata": {},
   "outputs": [],
   "source": [
    "b = np.array([1,0,1,0])"
   ]
  },
  {
   "cell_type": "code",
   "execution_count": 237,
   "id": "9630aee2-36e0-44f6-9279-e8e998c9c5db",
   "metadata": {},
   "outputs": [
    {
     "data": {
      "text/plain": [
       "array([2, 2, 4, 4])"
      ]
     },
     "execution_count": 237,
     "metadata": {},
     "output_type": "execute_result"
    }
   ],
   "source": [
    "a + b"
   ]
  },
  {
   "cell_type": "code",
   "execution_count": 239,
   "id": "2c21d226-2932-430b-8678-1bcf073c2930",
   "metadata": {},
   "outputs": [
    {
     "data": {
      "text/plain": [
       "array([1, 4, 9])"
      ]
     },
     "execution_count": 239,
     "metadata": {},
     "output_type": "execute_result"
    }
   ],
   "source": [
    "a ** 2"
   ]
  },
  {
   "cell_type": "code",
   "execution_count": 240,
   "id": "ed07bb8f-83db-4b37-90fd-fc338d065dbe",
   "metadata": {},
   "outputs": [
    {
     "data": {
      "text/plain": [
       "array([0.84147098, 0.90929743, 0.14112001])"
      ]
     },
     "execution_count": 240,
     "metadata": {},
     "output_type": "execute_result"
    }
   ],
   "source": [
    "#Take the sin\n",
    "np.sin(a)"
   ]
  },
  {
   "cell_type": "code",
   "execution_count": 241,
   "id": "ce9cc01f-8a8f-4f96-adf5-cf89b1fa5574",
   "metadata": {},
   "outputs": [
    {
     "data": {
      "text/plain": [
       "array([ 0.54030231, -0.41614684, -0.9899925 ])"
      ]
     },
     "execution_count": 241,
     "metadata": {},
     "output_type": "execute_result"
    }
   ],
   "source": [
    "np.cos(a)"
   ]
  },
  {
   "cell_type": "markdown",
   "id": "ff55f04a-2e91-4aff-81c8-64180a2255f8",
   "metadata": {},
   "source": [
    "# Linear Algebra"
   ]
  },
  {
   "cell_type": "code",
   "execution_count": 242,
   "id": "0f5b9c7b-d82a-48a7-958e-a4dd59892722",
   "metadata": {},
   "outputs": [
    {
     "name": "stdout",
     "output_type": "stream",
     "text": [
      "[[1. 1. 1.]\n",
      " [1. 1. 1.]]\n",
      "[[2 2]\n",
      " [2 2]\n",
      " [2 2]]\n"
     ]
    },
    {
     "data": {
      "text/plain": [
       "array([[6., 6.],\n",
       "       [6., 6.]])"
      ]
     },
     "execution_count": 242,
     "metadata": {},
     "output_type": "execute_result"
    }
   ],
   "source": [
    "a = np.ones((2,3))\n",
    "print(a)\n",
    "b = np.full((3,2), 2)\n",
    "print(b)\n",
    "np.matmul(a,b)"
   ]
  },
  {
   "cell_type": "markdown",
   "id": "3b19ee5d-224b-471c-86bf-4adb2a7dd2dc",
   "metadata": {},
   "source": [
    "# Statistics"
   ]
  },
  {
   "cell_type": "code",
   "execution_count": 243,
   "id": "93a76066-c309-4a31-ba92-acabec9517bf",
   "metadata": {},
   "outputs": [
    {
     "data": {
      "text/plain": [
       "array([[1, 2, 3],\n",
       "       [4, 5, 6]])"
      ]
     },
     "execution_count": 243,
     "metadata": {},
     "output_type": "execute_result"
    }
   ],
   "source": [
    "stats = np.array([[1,2,3], [4,5,6]])\n",
    "stats"
   ]
  },
  {
   "cell_type": "code",
   "execution_count": 244,
   "id": "f28985b7-3b55-4a81-81d4-34af8c9c930d",
   "metadata": {},
   "outputs": [
    {
     "data": {
      "text/plain": [
       "np.int64(1)"
      ]
     },
     "execution_count": 244,
     "metadata": {},
     "output_type": "execute_result"
    }
   ],
   "source": [
    "np.min(stats)"
   ]
  },
  {
   "cell_type": "code",
   "execution_count": 248,
   "id": "64559783-1765-4f55-87de-924966d4950b",
   "metadata": {},
   "outputs": [
    {
     "data": {
      "text/plain": [
       "np.int64(6)"
      ]
     },
     "execution_count": 248,
     "metadata": {},
     "output_type": "execute_result"
    }
   ],
   "source": [
    "np.max(stats)"
   ]
  },
  {
   "cell_type": "code",
   "execution_count": 249,
   "id": "397a85c7-7d82-4db6-92d0-c5fd5d897829",
   "metadata": {},
   "outputs": [
    {
     "data": {
      "text/plain": [
       "np.int64(21)"
      ]
     },
     "execution_count": 249,
     "metadata": {},
     "output_type": "execute_result"
    }
   ],
   "source": [
    "np.sum(stats)"
   ]
  },
  {
   "cell_type": "markdown",
   "id": "e1f65315-7ffd-4b87-b385-403cebd2f65d",
   "metadata": {},
   "source": [
    "# Reorganizing arrays"
   ]
  },
  {
   "cell_type": "code",
   "execution_count": 253,
   "id": "b78dafcf-57f0-4d42-a87f-fbb75f7964f9",
   "metadata": {},
   "outputs": [
    {
     "name": "stdout",
     "output_type": "stream",
     "text": [
      "[[1 2 3 4]\n",
      " [5 6 7 8]]\n",
      "[[[1 2]\n",
      "  [3 4]]\n",
      "\n",
      " [[5 6]\n",
      "  [7 8]]]\n"
     ]
    }
   ],
   "source": [
    "before = np.array([[1,2,3,4],[5,6,7,8]])\n",
    "print(before)\n",
    "\n",
    "after = before.reshape((2,2,2))\n",
    "print(after)"
   ]
  },
  {
   "cell_type": "code",
   "execution_count": 255,
   "id": "557d6ece-833a-4a16-ab56-ee9d62f0725e",
   "metadata": {},
   "outputs": [
    {
     "data": {
      "text/plain": [
       "array([[1, 2, 3, 4],\n",
       "       [5, 6, 7, 8]])"
      ]
     },
     "execution_count": 255,
     "metadata": {},
     "output_type": "execute_result"
    }
   ],
   "source": [
    "# Vertically stacking vectors\n",
    "v1 = np.array([1,2,3,4])\n",
    "v2 = np.array([5,6,7,8])\n",
    "\n",
    "np.vstack([v1,v2])"
   ]
  },
  {
   "cell_type": "code",
   "execution_count": 257,
   "id": "968e10da-cbc4-4f2c-930b-6a578deaa4a0",
   "metadata": {},
   "outputs": [
    {
     "data": {
      "text/plain": [
       "array([[1, 2, 3, 4],\n",
       "       [5, 6, 7, 8],\n",
       "       [1, 2, 3, 4],\n",
       "       [5, 6, 7, 8]])"
      ]
     },
     "execution_count": 257,
     "metadata": {},
     "output_type": "execute_result"
    }
   ],
   "source": [
    "np.vstack([v1,v2,v1,v2])"
   ]
  },
  {
   "cell_type": "code",
   "execution_count": 259,
   "id": "332586dc-74af-427b-985d-a1c99314c3c9",
   "metadata": {},
   "outputs": [
    {
     "data": {
      "text/plain": [
       "array([[1., 1., 1., 1., 0., 0.],\n",
       "       [1., 1., 1., 1., 0., 0.]])"
      ]
     },
     "execution_count": 259,
     "metadata": {},
     "output_type": "execute_result"
    }
   ],
   "source": [
    "# Horizontal  stack\n",
    "h1 = np.ones((2,4))\n",
    "h2 = np.zeros((2,2))\n",
    "\n",
    "np.hstack((h1,h2))\n"
   ]
  },
  {
   "cell_type": "code",
   "execution_count": null,
   "id": "4afbac8f-f519-48ea-9931-5fcd5439ea2f",
   "metadata": {},
   "outputs": [],
   "source": []
  }
 ],
 "metadata": {
  "kernelspec": {
   "display_name": "Python 3 (ipykernel)",
   "language": "python",
   "name": "python3"
  },
  "language_info": {
   "codemirror_mode": {
    "name": "ipython",
    "version": 3
   },
   "file_extension": ".py",
   "mimetype": "text/x-python",
   "name": "python",
   "nbconvert_exporter": "python",
   "pygments_lexer": "ipython3",
   "version": "3.13.0"
  }
 },
 "nbformat": 4,
 "nbformat_minor": 5
}
